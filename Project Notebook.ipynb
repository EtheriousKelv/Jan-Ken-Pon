{
  "nbformat": 4,
  "nbformat_minor": 0,
  "metadata": {
    "colab": {
      "provenance": [],
      "authorship_tag": "ABX9TyNxiXcRN+CdarA5JeWrCCqZ"
    },
    "kernelspec": {
      "name": "python3",
      "display_name": "Python 3"
    },
    "language_info": {
      "name": "python"
    }
  },
  "cells": [
    {
      "cell_type": "code",
      "execution_count": null,
      "metadata": {
        "id": "Efr4-M5EKZmY"
      },
      "outputs": [],
      "source": [
        "!pip install split_folders\n",
        "\n",
        "import os\n",
        "import zipfile\n",
        "import splitfolders\n",
        "import tensorflow as tf\n",
        "from tensorflow.keras.models import Sequential\n",
        "from tensorflow.keras import layers\n",
        "from tensorflow.keras.utils import image_dataset_from_directory\n",
        "from tensorflow.keras.callbacks import Callback\n",
        "\n",
        "import warnings\n",
        "warnings.filterwarnings('ignore')"
      ]
    },
    {
      "cell_type": "code",
      "source": [
        "!wget \"https://github.com/dicodingacademy/assets/releases/download/release/rockpaperscissors.zip\""
      ],
      "metadata": {
        "id": "33rRXgl_N-W5"
      },
      "execution_count": null,
      "outputs": []
    },
    {
      "cell_type": "code",
      "source": [
        "local_zip = \"/content/rockpaperscissors.zip\"\n",
        "zip_ref = zipfile.ZipFile(local_zip, 'r')\n",
        "zip_ref.extractall()\n",
        "zip_ref.close()"
      ],
      "metadata": {
        "id": "FQTk0TyFN_oV"
      },
      "execution_count": null,
      "outputs": []
    },
    {
      "cell_type": "code",
      "source": [
        "main_directory = \"/content/rockpaperscissors\"\n",
        "\n",
        "splitfolders.ratio('/content/rockpaperscissors/rps-cv-images', \n",
        "                   output=\"/content/data\", \n",
        "                   seed=1337, \n",
        "                   ratio=(.6, .4)\n",
        "                   )"
      ],
      "metadata": {
        "id": "U7PVctGbOCCq"
      },
      "execution_count": null,
      "outputs": []
    },
    {
      "cell_type": "code",
      "source": [
        "train_dir = \"/content/data/train\"\n",
        "valid_dir = \"/content/data/val\""
      ],
      "metadata": {
        "id": "HQkCF9ULODmc"
      },
      "execution_count": null,
      "outputs": []
    },
    {
      "cell_type": "code",
      "source": [
        "train_image = 0\n",
        "valid_image = 0\n",
        "\n",
        "for dir in os.listdir(train_dir):\n",
        "  train_image += len(os.listdir(os.path.join(train_dir, dir)))\n",
        "\n",
        "for dir in os.listdir(valid_dir):\n",
        "  valid_image += len(os.listdir(os.path.join(valid_dir, dir)))\n",
        "\n",
        "print(train_image)\n",
        "print(valid_image)"
      ],
      "metadata": {
        "id": "RROUrdXIOEla"
      },
      "execution_count": null,
      "outputs": []
    },
    {
      "cell_type": "code",
      "source": [
        "train_ds = image_dataset_from_directory(\n",
        "    directory = \"/content/data/train\",\n",
        "    batch_size = 32,\n",
        "    label_mode = 'int'\n",
        ")\n",
        "\n",
        "valid_ds = image_dataset_from_directory(\n",
        "    directory = \"/content/data/val\",\n",
        "    batch_size = 32,\n",
        "    label_mode = 'int'\n",
        ")"
      ],
      "metadata": {
        "id": "eGAqmxnjOHme"
      },
      "execution_count": null,
      "outputs": []
    },
    {
      "cell_type": "code",
      "source": [
        "print(train_ds.class_names)\n",
        "print(valid_ds.class_names)"
      ],
      "metadata": {
        "id": "woIvXqNpOIsu"
      },
      "execution_count": null,
      "outputs": []
    }
  ]
}